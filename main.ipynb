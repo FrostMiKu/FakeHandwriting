{
 "cells": [
  {
   "cell_type": "code",
   "execution_count": 1,
   "metadata": {},
   "outputs": [],
   "source": [
    "# coding: utf-8\n",
    "from PIL import Image, ImageFont\n",
    "\n",
    "from handright import Template, handwrite\n",
    "\n",
    "text = \"\"\"对于此次疫情，让我们感受到了家国情怀，让我们看到了中国人民万众一心，在党的中国特色社会主义领导下，展现出了前所未有的凝聚力，让外邦惊叹，让国人心安，在抗疫的“考试”中，交出了一份让世界和国人都满意的答卷。  从整体上看，当前人类命运共同体的构建还处于起步阶段。我们应该统筹发挥个体主体和社会主体两大构建和发展力量，为逐步实现「自由人联合体」的 「真正共同体」奠定基础。  从这次疫情我们不难发现，疫情围绕着全球化进行扩散，中国首当其冲，也打下榜样，同样国外的援助更是雪中送碳‘山川异域，与子同天’是全球人民的温暖。  经过全国人民共同努力，当前我国疫情防控形势发生积极向好的变化，取得阶段性重要成果。但要看到，目前疫情正向全球蔓延，我们面临着各种不确定的风险和挑战。同时，放眼世界，国际竞争更加激烈，国家发展面临更多挑战。中国年轻人需要拓展全球视野，共同助力打赢病毒阻击战、经济复苏战、民生保卫战、国际舆论战和中美博弈战，以“人类命运共同体”的理念与格局开创更加美好的未来。“道不远人，人无异国”。  从领导力，组织力，动员力当中，中国的许多措施实际上正在成为疫情应对的新标杆。  中国为防治疫情在世界蔓延所采取的坚强有力举措，不仅让中国人民对打赢疫情防控战充满信心，也给世界吃了一颗“定心丸”；  不仅是在对中国人民生命安全和身体健康负责，也是在为世界公共卫生事业作贡献。在这场没有硝烟的战“疫”中，中国共产党带领中国人民书写的“中国故事”、发出的“中国声音”令世界动容。  疫情中，世界看见“中国担当”。  国有国的气质，大有大的样子。  在这场疫情大考中国际社会和世界人民看到众志成城、共克时艰的中国看到顽强不屈、逆境奋进的中国看到迅速出击、蹄疾步稳的中国看到担当有为、守护世界的中国这是以行动诠释了构建人类命运共同体的庄严承诺，这是以行动践行阻止疫情蔓延的大国担当。  在国内与国际接轨的时代，天下事，事事通晓，在网上流传一副对联，更是把此事表现的淋淋尽致。  风声雨声读书声，声声入耳。  家事国事天下事，事事关心。  把我们的日常生活与国家大事联系在一起，与国家政治紧密结合。\n",
    "\"\"\"\n",
    "background = Image.open('bg.png')\n",
    "width, height = background.size\n",
    "background = background.resize(\n",
    "    (width * 2, height * 2), resample=Image.LANCZOS\n",
    ")\n",
    "\n",
    "\n",
    "template = Template(\n",
    "    # background=Image.new(mode=\"1\", size=(2048, 4096), color=1),\n",
    "    background=background,\n",
    "    font_size=100,\n",
    "    font=ImageFont.truetype(\"font3.ttf\"),\n",
    "    line_spacing=196,\n",
    "    fill=0,  # 字体“颜色”\n",
    "    left_margin=300,\n",
    "    top_margin=590,\n",
    "    right_margin=300,\n",
    "    bottom_margin=300,\n",
    "    word_spacing=-4,\n",
    "    line_spacing_sigma=2,  # 行间距随机扰动\n",
    "    font_size_sigma=3,  # 字体大小随机扰动\n",
    "    word_spacing_sigma=3,  # 字间距随机扰动\n",
    "    end_chars=\"，。\",  # 防止特定字符因排版算法的自动换行而出现在行首\n",
    "    perturb_x_sigma=3,  # 笔画横向偏移随机扰动\n",
    "    perturb_y_sigma=4,  # 笔画纵向偏移随机扰动\n",
    "    perturb_theta_sigma=0.05,  # 笔画旋转偏移随机扰动\n",
    ")\n",
    "images = handwrite(text, template)\n",
    "\n",
    "page = 1\n",
    "for i, im in enumerate(images):\n",
    "    assert isinstance(im, Image.Image)\n",
    "    im.show()\n",
    "    filename = \"output/\"+str(page)+\".png\"\n",
    "    im.save(filename.format(i))\n",
    "    page += 1"
   ]
  },
  {
   "cell_type": "code",
   "execution_count": null,
   "metadata": {},
   "outputs": [],
   "source": []
  }
 ],
 "metadata": {
  "kernelspec": {
   "name": "python3",
   "display_name": "Python 3.7.6 64-bit ('base': conda)"
  },
  "language_info": {
   "codemirror_mode": {
    "name": "ipython",
    "version": 3
   },
   "file_extension": ".py",
   "mimetype": "text/x-python",
   "name": "python",
   "nbconvert_exporter": "python",
   "pygments_lexer": "ipython3",
   "version": "3.7.6"
  },
  "interpreter": {
   "hash": "1c4ed417e0e64d081203a80a680d736723b5f4c9172f1e87e399d2e5908a78d6"
  }
 },
 "nbformat": 4,
 "nbformat_minor": 4
}